{
 "cells": [
  {
   "cell_type": "code",
   "execution_count": 1,
   "id": "4334f3dc",
   "metadata": {},
   "outputs": [],
   "source": [
    "import cv2\n",
    "import numpy"
   ]
  },
  {
   "cell_type": "code",
   "execution_count": 2,
   "id": "67c76e81",
   "metadata": {},
   "outputs": [],
   "source": [
    "photo1 = cv2.imread(\"photo1.jpg\")"
   ]
  },
  {
   "cell_type": "code",
   "execution_count": 3,
   "id": "26dc46c5",
   "metadata": {},
   "outputs": [
    {
     "data": {
      "text/plain": [
       "(492, 435, 3)"
      ]
     },
     "execution_count": 3,
     "metadata": {},
     "output_type": "execute_result"
    }
   ],
   "source": [
    "photo1.shape"
   ]
  },
  {
   "cell_type": "code",
   "execution_count": 4,
   "id": "0ea2024c",
   "metadata": {},
   "outputs": [],
   "source": [
    "photo2 = cv2.imread(\"photo2.jpg\")"
   ]
  },
  {
   "cell_type": "code",
   "execution_count": 5,
   "id": "fb53483a",
   "metadata": {},
   "outputs": [
    {
     "data": {
      "text/plain": [
       "(533, 718, 3)"
      ]
     },
     "execution_count": 5,
     "metadata": {},
     "output_type": "execute_result"
    }
   ],
   "source": [
    "photo2.shape"
   ]
  },
  {
   "cell_type": "code",
   "execution_count": 6,
   "id": "75d03647",
   "metadata": {},
   "outputs": [],
   "source": [
    "crop_photo1 = photo1[:500 , :]\n",
    "cv2.imshow(\"photo1\",crop_photo1)\n",
    "cv2.waitKey()\n",
    "cv2.destroyAllWindows()"
   ]
  },
  {
   "cell_type": "code",
   "execution_count": 7,
   "id": "d406a910",
   "metadata": {},
   "outputs": [
    {
     "data": {
      "text/plain": [
       "(492, 435, 3)"
      ]
     },
     "execution_count": 7,
     "metadata": {},
     "output_type": "execute_result"
    }
   ],
   "source": [
    "crop_photo1.shape\n"
   ]
  },
  {
   "cell_type": "code",
   "execution_count": 8,
   "id": "b3a836f6",
   "metadata": {},
   "outputs": [],
   "source": [
    "crop_photo2 = photo2[:492 ,283 :]\n",
    "cv2.imshow(\"photo2\",crop_photo2)\n",
    "cv2.waitKey()\n",
    "cv2.destroyAllWindows()"
   ]
  },
  {
   "cell_type": "code",
   "execution_count": 9,
   "id": "bc91373d",
   "metadata": {},
   "outputs": [
    {
     "data": {
      "text/plain": [
       "(492, 435, 3)"
      ]
     },
     "execution_count": 9,
     "metadata": {},
     "output_type": "execute_result"
    }
   ],
   "source": [
    "crop_photo2.shape"
   ]
  },
  {
   "cell_type": "code",
   "execution_count": 10,
   "id": "59b6ea1e",
   "metadata": {},
   "outputs": [],
   "source": [
    "crop_photo1a = crop_photo1[ : , :246 ]\n",
    "cv2.imshow(\"photo1\",crop_photo1a)\n",
    "cv2.waitKey()\n",
    "cv2.destroyAllWindows()\n",
    "\n",
    "crop_photo1b = crop_photo1[ : , 246: ]\n",
    "cv2.imshow(\"photo1\",crop_photo1b)\n",
    "cv2.waitKey()\n",
    "cv2.destroyAllWindows()"
   ]
  },
  {
   "cell_type": "code",
   "execution_count": 11,
   "id": "811c7790",
   "metadata": {},
   "outputs": [],
   "source": [
    "\n",
    "crop_photo2a = crop_photo2[ : , :100 ]\n",
    "cv2.imshow(\"photo2\",crop_photo2a)\n",
    "cv2.waitKey()\n",
    "cv2.destroyAllWindows()\n",
    "\n",
    "crop_photo2b = crop_photo2[ : , 100: ]\n",
    "cv2.imshow(\"photo2\",crop_photo2b)\n",
    "cv2.waitKey()\n",
    "cv2.destroyAllWindows()"
   ]
  },
  {
   "cell_type": "code",
   "execution_count": 12,
   "id": "cc2748fb",
   "metadata": {},
   "outputs": [],
   "source": [
    "photo1photo2 = numpy.hstack((crop_photo1a,crop_photo2b))"
   ]
  },
  {
   "cell_type": "code",
   "execution_count": 13,
   "id": "f233698f",
   "metadata": {},
   "outputs": [],
   "source": [
    "\n",
    "cv2.imshow(\"photo1\",photo1photo2)\n",
    "cv2.waitKey()\n",
    "cv2.destroyAllWindows()"
   ]
  },
  {
   "cell_type": "code",
   "execution_count": 14,
   "id": "2643ccc2",
   "metadata": {},
   "outputs": [],
   "source": [
    "photo2photo1 = numpy.hstack((crop_photo2a,crop_photo1b))"
   ]
  },
  {
   "cell_type": "code",
   "execution_count": 15,
   "id": "f48ccc34",
   "metadata": {},
   "outputs": [],
   "source": [
    "cv2.imshow(\"photo1\",photo2photo1)\n",
    "cv2.waitKey()\n",
    "cv2.destroyAllWindows()"
   ]
  },
  {
   "cell_type": "code",
   "execution_count": null,
   "id": "c802dbe8",
   "metadata": {},
   "outputs": [],
   "source": []
  }
 ],
 "metadata": {
  "kernelspec": {
   "display_name": "Python 3",
   "language": "python",
   "name": "python3"
  },
  "language_info": {
   "codemirror_mode": {
    "name": "ipython",
    "version": 3
   },
   "file_extension": ".py",
   "mimetype": "text/x-python",
   "name": "python",
   "nbconvert_exporter": "python",
   "pygments_lexer": "ipython3",
   "version": "3.8.8"
  }
 },
 "nbformat": 4,
 "nbformat_minor": 5
}
